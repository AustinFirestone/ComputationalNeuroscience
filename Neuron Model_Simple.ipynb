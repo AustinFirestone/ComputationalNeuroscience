{
  "nbformat": 4,
  "nbformat_minor": 0,
  "metadata": {
    "colab": {
      "provenance": []
    },
    "kernelspec": {
      "name": "python3",
      "display_name": "Python 3"
    },
    "language_info": {
      "name": "python"
    }
  },
  "cells": [
    {
      "cell_type": "code",
      "execution_count": 36,
      "metadata": {
        "colab": {
          "base_uri": "https://localhost:8080/"
        },
        "id": "A12joQIhwME7",
        "outputId": "0ea18688-e334-4949-e28c-fe3fa1bebd31"
      },
      "outputs": [
        {
          "output_type": "stream",
          "name": "stdout",
          "text": [
            "Requirement already satisfied: neuron in /usr/local/lib/python3.10/dist-packages (8.2.3)\n",
            "Requirement already satisfied: numpy>=1.9.3 in /usr/local/lib/python3.10/dist-packages (from neuron) (1.23.5)\n",
            "Requirement already satisfied: matplotlib in /usr/local/lib/python3.10/dist-packages (3.7.1)\n",
            "Requirement already satisfied: contourpy>=1.0.1 in /usr/local/lib/python3.10/dist-packages (from matplotlib) (1.1.1)\n",
            "Requirement already satisfied: cycler>=0.10 in /usr/local/lib/python3.10/dist-packages (from matplotlib) (0.12.1)\n",
            "Requirement already satisfied: fonttools>=4.22.0 in /usr/local/lib/python3.10/dist-packages (from matplotlib) (4.43.1)\n",
            "Requirement already satisfied: kiwisolver>=1.0.1 in /usr/local/lib/python3.10/dist-packages (from matplotlib) (1.4.5)\n",
            "Requirement already satisfied: numpy>=1.20 in /usr/local/lib/python3.10/dist-packages (from matplotlib) (1.23.5)\n",
            "Requirement already satisfied: packaging>=20.0 in /usr/local/lib/python3.10/dist-packages (from matplotlib) (23.2)\n",
            "Requirement already satisfied: pillow>=6.2.0 in /usr/local/lib/python3.10/dist-packages (from matplotlib) (9.4.0)\n",
            "Requirement already satisfied: pyparsing>=2.3.1 in /usr/local/lib/python3.10/dist-packages (from matplotlib) (3.1.1)\n",
            "Requirement already satisfied: python-dateutil>=2.7 in /usr/local/lib/python3.10/dist-packages (from matplotlib) (2.8.2)\n",
            "Requirement already satisfied: six>=1.5 in /usr/local/lib/python3.10/dist-packages (from python-dateutil>=2.7->matplotlib) (1.16.0)\n"
          ]
        },
        {
          "output_type": "execute_result",
          "data": {
            "text/plain": [
              "1.0"
            ]
          },
          "metadata": {},
          "execution_count": 36
        }
      ],
      "source": [
        "!pip install neuron\n",
        "!pip install matplotlib\n",
        "import matplotlib.pyplot as plt\n",
        "h.load_file('stdrun.hoc')\n",
        "\n"
      ]
    },
    {
      "cell_type": "code",
      "source": [
        "from neuron import h\n",
        "\n",
        "soma = h.Section(name='Soma')\n",
        "soma.nseg = 1\n",
        "soma.L = 35\n",
        "soma.diam = 35\n",
        "soma.insert('pas')\n",
        "print(\"Vm = \" + str(soma.e_pas))\n"
      ],
      "metadata": {
        "colab": {
          "base_uri": "https://localhost:8080/"
        },
        "id": "GAWT36ptxpjF",
        "outputId": "cefd201a-8111-4362-beb9-b354b16d183c"
      },
      "execution_count": 27,
      "outputs": [
        {
          "output_type": "stream",
          "name": "stdout",
          "text": [
            "Vm = -70.0\n"
          ]
        }
      ]
    },
    {
      "cell_type": "code",
      "source": [
        "soma.insert('hh')\n",
        "soma.gl_hh = 0\n",
        "print(\"Ek = \" + str(soma.ek))\n",
        "print(\"Ena = \" + str(soma.ena))\n",
        "\n",
        "\n"
      ],
      "metadata": {
        "colab": {
          "base_uri": "https://localhost:8080/"
        },
        "id": "St4QVXJez2Wd",
        "outputId": "47a4a664-af1b-475a-b1a6-c28c4f986e91"
      },
      "execution_count": 28,
      "outputs": [
        {
          "output_type": "stream",
          "name": "stdout",
          "text": [
            "Ek = -77.0\n",
            "Ena = 50.0\n"
          ]
        }
      ]
    },
    {
      "cell_type": "code",
      "source": [
        "ci = h.IClamp(soma(0.5))\n",
        "ci.dur = 2.5\n",
        "ci.amp = 1\n",
        "ci.delay = 100\n",
        "\n"
      ],
      "metadata": {
        "id": "TNkbF1qe0bcM"
      },
      "execution_count": 29,
      "outputs": []
    },
    {
      "cell_type": "code",
      "source": [
        "h.v_init = soma.e_pas\n",
        "h.tstop = tstop = 200\n",
        "h.dt = 0.025\n",
        "\n",
        "t_Vec = h.Vector()\n",
        "v_Vec = h.Vector()\n",
        "t_Vec.record(h._ref_t)\n",
        "v_Vec.record(soma(0.5)._ref_v)\n",
        "h.run()\n",
        "\n",
        "plt.plot(t_Vec, v_Vec)\n",
        "\n"
      ],
      "metadata": {
        "colab": {
          "base_uri": "https://localhost:8080/",
          "height": 448
        },
        "id": "8_GAHPLf1HIn",
        "outputId": "680c8e71-14d0-4e27-adcb-5ad344c35a73"
      },
      "execution_count": 39,
      "outputs": [
        {
          "output_type": "execute_result",
          "data": {
            "text/plain": [
              "[<matplotlib.lines.Line2D at 0x7b3585646f50>]"
            ]
          },
          "metadata": {},
          "execution_count": 39
        },
        {
          "output_type": "display_data",
          "data": {
            "text/plain": [
              "<Figure size 640x480 with 1 Axes>"
            ],
            "image/png": "[encoded data removed]"
          },
          "metadata": {}
        }
      ]
    }
  ]
}